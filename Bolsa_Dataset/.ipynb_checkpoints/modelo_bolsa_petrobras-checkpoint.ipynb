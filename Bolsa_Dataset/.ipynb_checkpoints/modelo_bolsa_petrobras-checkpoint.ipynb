{
 "cells": [
  {
   "cell_type": "markdown",
   "metadata": {},
   "source": [
    "### Previsão de Séries Temporais - Bolsa DataSet\n",
    "> Exercício do livro: Redes Neurais Artificiais - Fernando Feltrin\n",
    "> Base de dados da Petrobras (PETR4.SA - 2017/2020) disponível no site Yahoo Finance. "
   ]
  },
  {
   "cell_type": "code",
   "execution_count": 1,
   "metadata": {},
   "outputs": [],
   "source": [
    "#importação de bibliotecas necessárias\n",
    "\n",
    "import numpy as np\n",
    "import pandas as pd\n",
    "from keras.models import Sequential\n",
    "from keras.layers import Dense, Dropout\n",
    "from sklearn.preprocessing import MinMaxScaler\n",
    "from keras.layers import LSTM\n",
    "import matplotlib.pyplot as plt"
   ]
  },
  {
   "cell_type": "code",
   "execution_count": 3,
   "metadata": {},
   "outputs": [
    {
     "data": {
      "text/html": [
       "<div>\n",
       "<style scoped>\n",
       "    .dataframe tbody tr th:only-of-type {\n",
       "        vertical-align: middle;\n",
       "    }\n",
       "\n",
       "    .dataframe tbody tr th {\n",
       "        vertical-align: top;\n",
       "    }\n",
       "\n",
       "    .dataframe thead th {\n",
       "        text-align: right;\n",
       "    }\n",
       "</style>\n",
       "<table border=\"1\" class=\"dataframe\">\n",
       "  <thead>\n",
       "    <tr style=\"text-align: right;\">\n",
       "      <th></th>\n",
       "      <th>Date</th>\n",
       "      <th>Open</th>\n",
       "      <th>High</th>\n",
       "      <th>Low</th>\n",
       "      <th>Close</th>\n",
       "      <th>Adj Close</th>\n",
       "      <th>Volume</th>\n",
       "    </tr>\n",
       "  </thead>\n",
       "  <tbody>\n",
       "    <tr>\n",
       "      <th>0</th>\n",
       "      <td>2017-01-16</td>\n",
       "      <td>15.70</td>\n",
       "      <td>15.750000</td>\n",
       "      <td>15.58</td>\n",
       "      <td>15.75</td>\n",
       "      <td>14.611317</td>\n",
       "      <td>20069600.0</td>\n",
       "    </tr>\n",
       "    <tr>\n",
       "      <th>1</th>\n",
       "      <td>2017-01-17</td>\n",
       "      <td>15.73</td>\n",
       "      <td>15.970000</td>\n",
       "      <td>15.72</td>\n",
       "      <td>15.82</td>\n",
       "      <td>14.676254</td>\n",
       "      <td>28663300.0</td>\n",
       "    </tr>\n",
       "    <tr>\n",
       "      <th>2</th>\n",
       "      <td>2017-01-18</td>\n",
       "      <td>15.80</td>\n",
       "      <td>15.930000</td>\n",
       "      <td>15.71</td>\n",
       "      <td>15.79</td>\n",
       "      <td>14.648424</td>\n",
       "      <td>24725200.0</td>\n",
       "    </tr>\n",
       "    <tr>\n",
       "      <th>3</th>\n",
       "      <td>2017-01-19</td>\n",
       "      <td>15.82</td>\n",
       "      <td>15.880000</td>\n",
       "      <td>15.58</td>\n",
       "      <td>15.77</td>\n",
       "      <td>14.629870</td>\n",
       "      <td>21677600.0</td>\n",
       "    </tr>\n",
       "    <tr>\n",
       "      <th>4</th>\n",
       "      <td>2017-01-20</td>\n",
       "      <td>15.84</td>\n",
       "      <td>16.190001</td>\n",
       "      <td>15.81</td>\n",
       "      <td>16.00</td>\n",
       "      <td>14.843241</td>\n",
       "      <td>34863500.0</td>\n",
       "    </tr>\n",
       "  </tbody>\n",
       "</table>\n",
       "</div>"
      ],
      "text/plain": [
       "         Date   Open       High    Low  Close  Adj Close      Volume\n",
       "0  2017-01-16  15.70  15.750000  15.58  15.75  14.611317  20069600.0\n",
       "1  2017-01-17  15.73  15.970000  15.72  15.82  14.676254  28663300.0\n",
       "2  2017-01-18  15.80  15.930000  15.71  15.79  14.648424  24725200.0\n",
       "3  2017-01-19  15.82  15.880000  15.58  15.77  14.629870  21677600.0\n",
       "4  2017-01-20  15.84  16.190001  15.81  16.00  14.843241  34863500.0"
      ]
     },
     "execution_count": 3,
     "metadata": {},
     "output_type": "execute_result"
    }
   ],
   "source": [
    "#importação e polimento dos dados\n",
    "base = pd.read_csv('PETR4.SA.csv')\n",
    "base = base.dropna()\n",
    "\n",
    "#primeiros registros\n",
    "\n",
    "base.head()"
   ]
  },
  {
   "cell_type": "code",
   "execution_count": 5,
   "metadata": {},
   "outputs": [
    {
     "data": {
      "text/html": [
       "<div>\n",
       "<style scoped>\n",
       "    .dataframe tbody tr th:only-of-type {\n",
       "        vertical-align: middle;\n",
       "    }\n",
       "\n",
       "    .dataframe tbody tr th {\n",
       "        vertical-align: top;\n",
       "    }\n",
       "\n",
       "    .dataframe thead th {\n",
       "        text-align: right;\n",
       "    }\n",
       "</style>\n",
       "<table border=\"1\" class=\"dataframe\">\n",
       "  <thead>\n",
       "    <tr style=\"text-align: right;\">\n",
       "      <th></th>\n",
       "      <th>Date</th>\n",
       "      <th>Open</th>\n",
       "      <th>High</th>\n",
       "      <th>Low</th>\n",
       "      <th>Close</th>\n",
       "      <th>Adj Close</th>\n",
       "      <th>Volume</th>\n",
       "    </tr>\n",
       "  </thead>\n",
       "  <tbody>\n",
       "    <tr>\n",
       "      <th>970</th>\n",
       "      <td>2020-12-07</td>\n",
       "      <td>27.270000</td>\n",
       "      <td>27.790001</td>\n",
       "      <td>26.670000</td>\n",
       "      <td>27.000000</td>\n",
       "      <td>27.000000</td>\n",
       "      <td>72664200.0</td>\n",
       "    </tr>\n",
       "    <tr>\n",
       "      <th>971</th>\n",
       "      <td>2020-12-08</td>\n",
       "      <td>26.809999</td>\n",
       "      <td>27.139999</td>\n",
       "      <td>26.459999</td>\n",
       "      <td>26.660000</td>\n",
       "      <td>26.660000</td>\n",
       "      <td>46276700.0</td>\n",
       "    </tr>\n",
       "    <tr>\n",
       "      <th>972</th>\n",
       "      <td>2020-12-09</td>\n",
       "      <td>26.629999</td>\n",
       "      <td>26.969999</td>\n",
       "      <td>26.400000</td>\n",
       "      <td>26.940001</td>\n",
       "      <td>26.940001</td>\n",
       "      <td>52448300.0</td>\n",
       "    </tr>\n",
       "    <tr>\n",
       "      <th>973</th>\n",
       "      <td>2020-12-10</td>\n",
       "      <td>27.190001</td>\n",
       "      <td>28.200001</td>\n",
       "      <td>27.129999</td>\n",
       "      <td>27.820000</td>\n",
       "      <td>27.820000</td>\n",
       "      <td>97537100.0</td>\n",
       "    </tr>\n",
       "    <tr>\n",
       "      <th>974</th>\n",
       "      <td>2020-12-11</td>\n",
       "      <td>27.490000</td>\n",
       "      <td>27.780001</td>\n",
       "      <td>27.280001</td>\n",
       "      <td>27.410000</td>\n",
       "      <td>27.410000</td>\n",
       "      <td>30843600.0</td>\n",
       "    </tr>\n",
       "  </tbody>\n",
       "</table>\n",
       "</div>"
      ],
      "text/plain": [
       "           Date       Open       High        Low      Close  Adj Close  \\\n",
       "970  2020-12-07  27.270000  27.790001  26.670000  27.000000  27.000000   \n",
       "971  2020-12-08  26.809999  27.139999  26.459999  26.660000  26.660000   \n",
       "972  2020-12-09  26.629999  26.969999  26.400000  26.940001  26.940001   \n",
       "973  2020-12-10  27.190001  28.200001  27.129999  27.820000  27.820000   \n",
       "974  2020-12-11  27.490000  27.780001  27.280001  27.410000  27.410000   \n",
       "\n",
       "         Volume  \n",
       "970  72664200.0  \n",
       "971  46276700.0  \n",
       "972  52448300.0  \n",
       "973  97537100.0  \n",
       "974  30843600.0  "
      ]
     },
     "execution_count": 5,
     "metadata": {},
     "output_type": "execute_result"
    }
   ],
   "source": [
    "#útimos registros\n",
    "\n",
    "base.tail()"
   ]
  },
  {
   "cell_type": "markdown",
   "metadata": {},
   "source": [
    "### definição da base de treino"
   ]
  },
  {
   "cell_type": "code",
   "execution_count": 8,
   "metadata": {},
   "outputs": [
    {
     "data": {
      "text/plain": [
       "array([[15.7 ],\n",
       "       [15.73],\n",
       "       [15.8 ],\n",
       "       [15.82],\n",
       "       [15.84]])"
      ]
     },
     "execution_count": 8,
     "metadata": {},
     "output_type": "execute_result"
    }
   ],
   "source": [
    "#equivalente a base['Open']\n",
    "base_treino = base.iloc[:, 1:2].values\n",
    "base_treino[:5]"
   ]
  },
  {
   "cell_type": "code",
   "execution_count": 10,
   "metadata": {},
   "outputs": [
    {
     "data": {
      "text/plain": [
       "[0    15.70\n",
       " 1    15.73\n",
       " 2    15.80\n",
       " 3    15.82\n",
       " 4    15.84\n",
       " Name: Open, dtype: float64]"
      ]
     },
     "execution_count": 10,
     "metadata": {},
     "output_type": "execute_result"
    }
   ],
   "source": [
    "[base['Open'][:5]]"
   ]
  },
  {
   "cell_type": "markdown",
   "metadata": {},
   "source": [
    "### normalizando dados em um range entre 0 e 1"
   ]
  },
  {
   "cell_type": "code",
   "execution_count": 11,
   "metadata": {},
   "outputs": [],
   "source": [
    "normalizador = MinMaxScaler(feature_range = (0,1))\n",
    "base_treino_normalizada = normalizador.fit_transform(base_treino)"
   ]
  },
  {
   "cell_type": "markdown",
   "metadata": {},
   "source": [
    "### Separação de dados de treino e real"
   ]
  },
  {
   "cell_type": "code",
   "execution_count": 12,
   "metadata": {},
   "outputs": [],
   "source": [
    "previsores = []\n",
    "preco_real = []\n",
    "\n",
    "for i in range(90,len(base_treino_normalizada)):\n",
    "    previsores.append(base_treino_normalizada[i-90:i,0])\n",
    "    preco_real.append(base_treino_normalizada[i,0])"
   ]
  },
  {
   "cell_type": "code",
   "execution_count": 13,
   "metadata": {},
   "outputs": [],
   "source": [
    "# conversão dos dados para o numpy\n",
    "previsores, preco_real = np.array(previsores), np.array(preco_real)\n",
    "previsores = np.reshape(previsores,(previsores.shape[0], previsores.shape[1],1))"
   ]
  },
  {
   "cell_type": "markdown",
   "metadata": {},
   "source": [
    "### Codificação da Rede Neural\n",
    ">Dando início a condificação da estrutura da rede, criamos inicialmente nossa variável regressor que inicializa Seguential sem parêmetros.  Na seguência adicionamos a camada LSTM, que por sua vez tem como parâmetros input_shape que recebe os dados referentes ao registros e intervalo de tempo de nossa variável previsores, retornando essa seguência (recorrência) via parametro return_sequences definido como True (False Será sem recorrencia, em outras palavras, sem atualização de dados no próprio neurônio da camada) e por fim units especificando quanto neurônios estarão na primeira camada oculta.\n"
   ]
  },
  {
   "cell_type": "markdown",
   "metadata": {},
   "source": [
    ">Em seguida é adicionada a primeira camada de Dropout, que por sua vez descartará 30% dos neurônios dessa camada aleatoriamente. Logo após criamos amis uma camada LSTM (Long short-term memory - Traduzido do inglês-A memória de longo prazo é uma arquitetura de rede neural artificial recorrente usada no campo da aprendizagem profunda. Ao contrário das redes neurais de avanço padrão, o LSTM possui conexões de feedback. Ele não pode apenas processar pontos de dados únicos, mas também seqüências inteiras de dados) onde há recorrência, agora com tamanho de 50 neurônios. A seguir é adicionada mais uma camada Dropout, descartando mais 30% dos neurônios da camada, mais uma camada LSTM agora sem recorrência, ou seja, os valores que preencherem os neurônios dessa camada agora são estáticos, servindo apenas como referência para a camada subsequente. Por fim é criada uma camada Dense, onde há apenas 1 neurônio de saída e seu método de ativação é 'linear', que em outras palavras é uma função de ativação nula, o valor que chegar até esse neurônio simplesmente será replicado."
   ]
  },
  {
   "cell_type": "code",
   "execution_count": 14,
   "metadata": {},
   "outputs": [],
   "source": [
    "regressor = Sequential()\n",
    "regressor.add(LSTM(units = 100,\n",
    "                   return_sequences = True,\n",
    "                   input_shape = (previsores.shape[1],1)))\n",
    "regressor.add(Dropout(0.3))\n",
    "regressor.add(LSTM(units = 50,\n",
    "                   return_sequences = True,))\n",
    "regressor.add(Dropout(0.3))\n",
    "regressor.add(LSTM(units = 50))\n",
    "regressor.add(Dropout(0.3))\n",
    "regressor.add(Dense(units = 1,\n",
    "                    activation = 'linear'))\n",
    "regressor.compile(optimizer = 'rmsprop',\n",
    "                  loss = 'mean_squared_error',\n",
    "                  metrics = ['mean_absolute_error'])"
   ]
  },
  {
   "cell_type": "markdown",
   "metadata": {},
   "source": [
    "### Processamento da Rede"
   ]
  },
  {
   "cell_type": "code",
   "execution_count": 15,
   "metadata": {},
   "outputs": [
    {
     "name": "stdout",
     "output_type": "stream",
     "text": [
      "Epoch 1/100\n",
      "28/28 [==============================] - 2s 84ms/step - loss: 0.0491 - mean_absolute_error: 0.1510\n",
      "Epoch 2/100\n",
      "28/28 [==============================] - 3s 91ms/step - loss: 0.0243 - mean_absolute_error: 0.1146\n",
      "Epoch 3/100\n",
      "28/28 [==============================] - 3s 95ms/step - loss: 0.0197 - mean_absolute_error: 0.1012\n",
      "Epoch 4/100\n",
      "28/28 [==============================] - 3s 96ms/step - loss: 0.0178 - mean_absolute_error: 0.0987\n",
      "Epoch 5/100\n",
      "28/28 [==============================] - 3s 94ms/step - loss: 0.0153 - mean_absolute_error: 0.0914\n",
      "Epoch 6/100\n",
      "28/28 [==============================] - 3s 94ms/step - loss: 0.0137 - mean_absolute_error: 0.0866\n",
      "Epoch 7/100\n",
      "28/28 [==============================] - 3s 94ms/step - loss: 0.0128 - mean_absolute_error: 0.0833\n",
      "Epoch 8/100\n",
      "28/28 [==============================] - 3s 93ms/step - loss: 0.0124 - mean_absolute_error: 0.0816\n",
      "Epoch 9/100\n",
      "28/28 [==============================] - 3s 99ms/step - loss: 0.0105 - mean_absolute_error: 0.0755\n",
      "Epoch 10/100\n",
      "28/28 [==============================] - 3s 95ms/step - loss: 0.0120 - mean_absolute_error: 0.0804\n",
      "Epoch 11/100\n",
      "28/28 [==============================] - 3s 94ms/step - loss: 0.0102 - mean_absolute_error: 0.0738\n",
      "Epoch 12/100\n",
      "28/28 [==============================] - 3s 93ms/step - loss: 0.0092 - mean_absolute_error: 0.0712\n",
      "Epoch 13/100\n",
      "28/28 [==============================] - 3s 95ms/step - loss: 0.0097 - mean_absolute_error: 0.0739\n",
      "Epoch 14/100\n",
      "28/28 [==============================] - 3s 94ms/step - loss: 0.0093 - mean_absolute_error: 0.0707\n",
      "Epoch 15/100\n",
      "28/28 [==============================] - 3s 94ms/step - loss: 0.0087 - mean_absolute_error: 0.0686\n",
      "Epoch 16/100\n",
      "28/28 [==============================] - 3s 95ms/step - loss: 0.0089 - mean_absolute_error: 0.0702\n",
      "Epoch 17/100\n",
      "28/28 [==============================] - 3s 95ms/step - loss: 0.0081 - mean_absolute_error: 0.0663\n",
      "Epoch 18/100\n",
      "28/28 [==============================] - 3s 94ms/step - loss: 0.0082 - mean_absolute_error: 0.0659\n",
      "Epoch 19/100\n",
      "28/28 [==============================] - 3s 95ms/step - loss: 0.0077 - mean_absolute_error: 0.0655\n",
      "Epoch 20/100\n",
      "28/28 [==============================] - 3s 94ms/step - loss: 0.0080 - mean_absolute_error: 0.0658\n",
      "Epoch 21/100\n",
      "28/28 [==============================] - 3s 94ms/step - loss: 0.0077 - mean_absolute_error: 0.0630\n",
      "Epoch 22/100\n",
      "28/28 [==============================] - 3s 94ms/step - loss: 0.0066 - mean_absolute_error: 0.0591\n",
      "Epoch 23/100\n",
      "28/28 [==============================] - 3s 94ms/step - loss: 0.0072 - mean_absolute_error: 0.0623\n",
      "Epoch 24/100\n",
      "28/28 [==============================] - 3s 93ms/step - loss: 0.0068 - mean_absolute_error: 0.0597\n",
      "Epoch 25/100\n",
      "28/28 [==============================] - 3s 95ms/step - loss: 0.0061 - mean_absolute_error: 0.0580\n",
      "Epoch 26/100\n",
      "28/28 [==============================] - 3s 94ms/step - loss: 0.0067 - mean_absolute_error: 0.0592\n",
      "Epoch 27/100\n",
      "28/28 [==============================] - 3s 94ms/step - loss: 0.0058 - mean_absolute_error: 0.0567\n",
      "Epoch 28/100\n",
      "28/28 [==============================] - 3s 94ms/step - loss: 0.0060 - mean_absolute_error: 0.0571\n",
      "Epoch 29/100\n",
      "28/28 [==============================] - 3s 95ms/step - loss: 0.0063 - mean_absolute_error: 0.0582\n",
      "Epoch 30/100\n",
      "28/28 [==============================] - 3s 95ms/step - loss: 0.0062 - mean_absolute_error: 0.0579\n",
      "Epoch 31/100\n",
      "28/28 [==============================] - 3s 94ms/step - loss: 0.0053 - mean_absolute_error: 0.0542\n",
      "Epoch 32/100\n",
      "28/28 [==============================] - 3s 105ms/step - loss: 0.0057 - mean_absolute_error: 0.0541\n",
      "Epoch 33/100\n",
      "28/28 [==============================] - 3s 97ms/step - loss: 0.0055 - mean_absolute_error: 0.0558\n",
      "Epoch 34/100\n",
      "28/28 [==============================] - 3s 97ms/step - loss: 0.0054 - mean_absolute_error: 0.0536\n",
      "Epoch 35/100\n",
      "28/28 [==============================] - 3s 94ms/step - loss: 0.0053 - mean_absolute_error: 0.0537\n",
      "Epoch 36/100\n",
      "28/28 [==============================] - 3s 95ms/step - loss: 0.0056 - mean_absolute_error: 0.0546\n",
      "Epoch 37/100\n",
      "28/28 [==============================] - 3s 94ms/step - loss: 0.0054 - mean_absolute_error: 0.0536\n",
      "Epoch 38/100\n",
      "28/28 [==============================] - 3s 93ms/step - loss: 0.0056 - mean_absolute_error: 0.0539\n",
      "Epoch 39/100\n",
      "28/28 [==============================] - 3s 95ms/step - loss: 0.0046 - mean_absolute_error: 0.0494\n",
      "Epoch 40/100\n",
      "28/28 [==============================] - 3s 95ms/step - loss: 0.0048 - mean_absolute_error: 0.0503\n",
      "Epoch 41/100\n",
      "28/28 [==============================] - 3s 94ms/step - loss: 0.0050 - mean_absolute_error: 0.0520\n",
      "Epoch 42/100\n",
      "28/28 [==============================] - 3s 94ms/step - loss: 0.0051 - mean_absolute_error: 0.0516\n",
      "Epoch 43/100\n",
      "28/28 [==============================] - 3s 94ms/step - loss: 0.0045 - mean_absolute_error: 0.0498\n",
      "Epoch 44/100\n",
      "28/28 [==============================] - 3s 94ms/step - loss: 0.0049 - mean_absolute_error: 0.0504\n",
      "Epoch 45/100\n",
      "28/28 [==============================] - 3s 95ms/step - loss: 0.0042 - mean_absolute_error: 0.0467\n",
      "Epoch 46/100\n",
      "28/28 [==============================] - 3s 93ms/step - loss: 0.0048 - mean_absolute_error: 0.0497\n",
      "Epoch 47/100\n",
      "28/28 [==============================] - 3s 94ms/step - loss: 0.0048 - mean_absolute_error: 0.0510\n",
      "Epoch 48/100\n",
      "28/28 [==============================] - 3s 94ms/step - loss: 0.0046 - mean_absolute_error: 0.0485\n",
      "Epoch 49/100\n",
      "28/28 [==============================] - 3s 94ms/step - loss: 0.0040 - mean_absolute_error: 0.0461\n",
      "Epoch 50/100\n",
      "28/28 [==============================] - 3s 94ms/step - loss: 0.0039 - mean_absolute_error: 0.0455\n",
      "Epoch 51/100\n",
      "28/28 [==============================] - 3s 96ms/step - loss: 0.0041 - mean_absolute_error: 0.0468\n",
      "Epoch 52/100\n",
      "28/28 [==============================] - 3s 95ms/step - loss: 0.0036 - mean_absolute_error: 0.0439\n",
      "Epoch 53/100\n",
      "28/28 [==============================] - 3s 97ms/step - loss: 0.0043 - mean_absolute_error: 0.0487\n",
      "Epoch 54/100\n",
      "28/28 [==============================] - 3s 95ms/step - loss: 0.0034 - mean_absolute_error: 0.0431\n",
      "Epoch 55/100\n",
      "28/28 [==============================] - 3s 95ms/step - loss: 0.0041 - mean_absolute_error: 0.0466\n",
      "Epoch 56/100\n",
      "28/28 [==============================] - 3s 95ms/step - loss: 0.0041 - mean_absolute_error: 0.0477\n",
      "Epoch 57/100\n",
      "28/28 [==============================] - 3s 95ms/step - loss: 0.0040 - mean_absolute_error: 0.0470\n",
      "Epoch 58/100\n",
      "28/28 [==============================] - 3s 96ms/step - loss: 0.0036 - mean_absolute_error: 0.0438\n",
      "Epoch 59/100\n",
      "28/28 [==============================] - 3s 94ms/step - loss: 0.0036 - mean_absolute_error: 0.0444\n",
      "Epoch 60/100\n",
      "28/28 [==============================] - 3s 95ms/step - loss: 0.0036 - mean_absolute_error: 0.0437\n",
      "Epoch 61/100\n",
      "28/28 [==============================] - 3s 95ms/step - loss: 0.0037 - mean_absolute_error: 0.0459\n",
      "Epoch 62/100\n",
      "28/28 [==============================] - 3s 94ms/step - loss: 0.0036 - mean_absolute_error: 0.0442\n",
      "Epoch 63/100\n",
      "28/28 [==============================] - 3s 97ms/step - loss: 0.0036 - mean_absolute_error: 0.0444\n",
      "Epoch 64/100\n",
      "28/28 [==============================] - 3s 94ms/step - loss: 0.0034 - mean_absolute_error: 0.0438\n",
      "Epoch 65/100\n",
      "28/28 [==============================] - 3s 96ms/step - loss: 0.0037 - mean_absolute_error: 0.0436\n",
      "Epoch 66/100\n",
      "28/28 [==============================] - 3s 95ms/step - loss: 0.0035 - mean_absolute_error: 0.0442\n",
      "Epoch 67/100\n",
      "28/28 [==============================] - 3s 94ms/step - loss: 0.0034 - mean_absolute_error: 0.0421\n",
      "Epoch 68/100\n",
      "28/28 [==============================] - 3s 94ms/step - loss: 0.0035 - mean_absolute_error: 0.0439\n",
      "Epoch 69/100\n",
      "28/28 [==============================] - 3s 96ms/step - loss: 0.0034 - mean_absolute_error: 0.0429\n",
      "Epoch 70/100\n",
      "28/28 [==============================] - 3s 95ms/step - loss: 0.0031 - mean_absolute_error: 0.0423\n",
      "Epoch 71/100\n",
      "28/28 [==============================] - 3s 95ms/step - loss: 0.0033 - mean_absolute_error: 0.0426\n",
      "Epoch 72/100\n",
      "28/28 [==============================] - 3s 107ms/step - loss: 0.0031 - mean_absolute_error: 0.0416\n",
      "Epoch 73/100\n",
      "28/28 [==============================] - 3s 113ms/step - loss: 0.0033 - mean_absolute_error: 0.0426\n",
      "Epoch 74/100\n"
     ]
    },
    {
     "name": "stdout",
     "output_type": "stream",
     "text": [
      "28/28 [==============================] - 3s 93ms/step - loss: 0.0031 - mean_absolute_error: 0.0418\n",
      "Epoch 75/100\n",
      "28/28 [==============================] - 3s 93ms/step - loss: 0.0030 - mean_absolute_error: 0.0404\n",
      "Epoch 76/100\n",
      "28/28 [==============================] - 3s 93ms/step - loss: 0.0029 - mean_absolute_error: 0.0405\n",
      "Epoch 77/100\n",
      "28/28 [==============================] - 3s 93ms/step - loss: 0.0032 - mean_absolute_error: 0.0420\n",
      "Epoch 78/100\n",
      "28/28 [==============================] - 3s 97ms/step - loss: 0.0031 - mean_absolute_error: 0.0408\n",
      "Epoch 79/100\n",
      "28/28 [==============================] - 3s 92ms/step - loss: 0.0033 - mean_absolute_error: 0.0429\n",
      "Epoch 80/100\n",
      "28/28 [==============================] - 3s 94ms/step - loss: 0.0029 - mean_absolute_error: 0.0399\n",
      "Epoch 81/100\n",
      "28/28 [==============================] - 3s 93ms/step - loss: 0.0030 - mean_absolute_error: 0.0408\n",
      "Epoch 82/100\n",
      "28/28 [==============================] - 3s 92ms/step - loss: 0.0030 - mean_absolute_error: 0.0405\n",
      "Epoch 83/100\n",
      "28/28 [==============================] - 3s 93ms/step - loss: 0.0029 - mean_absolute_error: 0.0398\n",
      "Epoch 84/100\n",
      "28/28 [==============================] - 3s 93ms/step - loss: 0.0032 - mean_absolute_error: 0.0420: 1s - loss: 0.0032 - mea\n",
      "Epoch 85/100\n",
      "28/28 [==============================] - 3s 92ms/step - loss: 0.0030 - mean_absolute_error: 0.0405\n",
      "Epoch 86/100\n",
      "28/28 [==============================] - 3s 92ms/step - loss: 0.0030 - mean_absolute_error: 0.0405\n",
      "Epoch 87/100\n",
      "28/28 [==============================] - 3s 93ms/step - loss: 0.0028 - mean_absolute_error: 0.0393\n",
      "Epoch 88/100\n",
      "28/28 [==============================] - 3s 103ms/step - loss: 0.0030 - mean_absolute_error: 0.0413\n",
      "Epoch 89/100\n",
      "28/28 [==============================] - 3s 92ms/step - loss: 0.0028 - mean_absolute_error: 0.0400\n",
      "Epoch 90/100\n",
      "28/28 [==============================] - 3s 92ms/step - loss: 0.0030 - mean_absolute_error: 0.0416\n",
      "Epoch 91/100\n",
      "28/28 [==============================] - 3s 94ms/step - loss: 0.0027 - mean_absolute_error: 0.0388\n",
      "Epoch 92/100\n",
      "28/28 [==============================] - 3s 92ms/step - loss: 0.0027 - mean_absolute_error: 0.0386\n",
      "Epoch 93/100\n",
      "28/28 [==============================] - 3s 92ms/step - loss: 0.0026 - mean_absolute_error: 0.0382\n",
      "Epoch 94/100\n",
      "28/28 [==============================] - 3s 93ms/step - loss: 0.0030 - mean_absolute_error: 0.0411\n",
      "Epoch 95/100\n",
      "28/28 [==============================] - 3s 93ms/step - loss: 0.0027 - mean_absolute_error: 0.0393\n",
      "Epoch 96/100\n",
      "28/28 [==============================] - 3s 92ms/step - loss: 0.0029 - mean_absolute_error: 0.0406\n",
      "Epoch 97/100\n",
      "28/28 [==============================] - 3s 93ms/step - loss: 0.0032 - mean_absolute_error: 0.0418\n",
      "Epoch 98/100\n",
      "28/28 [==============================] - 3s 94ms/step - loss: 0.0026 - mean_absolute_error: 0.0383\n",
      "Epoch 99/100\n",
      "28/28 [==============================] - 3s 93ms/step - loss: 0.0027 - mean_absolute_error: 0.0397\n",
      "Epoch 100/100\n",
      "28/28 [==============================] - 3s 92ms/step - loss: 0.0028 - mean_absolute_error: 0.0383\n"
     ]
    },
    {
     "data": {
      "text/plain": [
       "<tensorflow.python.keras.callbacks.History at 0x7f54bc63e518>"
      ]
     },
     "execution_count": 15,
     "metadata": {},
     "output_type": "execute_result"
    }
   ],
   "source": [
    "regressor.fit(previsores,\n",
    "              preco_real,\n",
    "              epochs = 100,\n",
    "              batch_size = 32)"
   ]
  },
  {
   "cell_type": "markdown",
   "metadata": {},
   "source": [
    "#### Preparando dados para predição\n"
   ]
  },
  {
   "cell_type": "code",
   "execution_count": 16,
   "metadata": {},
   "outputs": [],
   "source": [
    "base_teste = pd.read_csv('PETR4.SA.csv')\n",
    "base_teste = base_teste.dropna()\n",
    "preco_real_teste = base_teste.iloc[:, 1:2].values\n",
    "base_completa = pd.concat((base['Open'], base_teste['Open']), axis = 0)\n",
    "\n",
    "entradas = base_completa[len(base_completa) - len(base_teste) - 90:].values\n",
    "entradas = entradas.reshape(-1,1)\n",
    "entradas = normalizador.transform(entradas)\n",
    "\n",
    "previsores_teste = []\n",
    "for j in range(90,len(entradas)):\n",
    "    previsores_teste.append(entradas[j-90:j, 0])\n",
    "previsores_teste = np.array(previsores_teste)\n",
    "previsores_teste = np.reshape(previsores_teste,\n",
    "                              (previsores_teste.shape[0],\n",
    "                               previsores_teste.shape[1],\n",
    "                               1))\n"
   ]
  },
  {
   "cell_type": "markdown",
   "metadata": {},
   "source": [
    "### Predição"
   ]
  },
  {
   "cell_type": "code",
   "execution_count": 17,
   "metadata": {},
   "outputs": [],
   "source": [
    "previsores_teste = regressor.predict(previsores_teste)\n",
    "previsores_teste = normalizador.inverse_transform(previsores_teste)"
   ]
  },
  {
   "cell_type": "markdown",
   "metadata": {},
   "source": [
    "> teste simples te acurácia da rede a partir da média do previsor e preço real"
   ]
  },
  {
   "cell_type": "code",
   "execution_count": 18,
   "metadata": {},
   "outputs": [
    {
     "name": "stdout",
     "output_type": "stream",
     "text": [
      "\n",
      "Média prevista = 21.212772369384766\n",
      "Média do real = 21.253364201646093\n",
      "\n"
     ]
    }
   ],
   "source": [
    "print(\"\"\"\n",
    "Média prevista = {}\n",
    "Média do real = {}\n",
    "\"\"\".format(previsores_teste.mean(),preco_real_teste.mean()))"
   ]
  },
  {
   "cell_type": "markdown",
   "metadata": {},
   "source": [
    "### Plotando predições e valor real"
   ]
  },
  {
   "cell_type": "code",
   "execution_count": 19,
   "metadata": {},
   "outputs": [
    {
     "data": {
      "image/png": "[encoded data removed]",
      "text/plain": [
       "<Figure size 432x288 with 1 Axes>"
      ]
     },
     "metadata": {
      "needs_background": "light"
     },
     "output_type": "display_data"
    }
   ],
   "source": [
    "plt.plot(preco_real_teste,\n",
    "         color = 'red',\n",
    "         label = 'Preço Real')\n",
    "plt.plot(previsores_teste,\n",
    "         color = 'blue',\n",
    "         label = 'Valor Previsto')\n",
    "plt.title('Previsor de Preços de Ações')\n",
    "plt.xlabel('Tempo')\n",
    "plt.ylabel('Valor')\n",
    "plt.legend()\n",
    "plt.show()"
   ]
  },
  {
   "cell_type": "code",
   "execution_count": null,
   "metadata": {},
   "outputs": [],
   "source": []
  }
 ],
 "metadata": {
  "kernelspec": {
   "display_name": "Python 3.7.3 64-bit ('tcc': venv)",
   "language": "python",
   "name": "python37364bittccvenv59142e8e4a294695828c55e12d6e6ba7"
  },
  "language_info": {
   "codemirror_mode": {
    "name": "ipython",
    "version": 3
   },
   "file_extension": ".py",
   "mimetype": "text/x-python",
   "name": "python",
   "nbconvert_exporter": "python",
   "pygments_lexer": "ipython3",
   "version": "3.7.3"
  }
 },
 "nbformat": 4,
 "nbformat_minor": 4
}
